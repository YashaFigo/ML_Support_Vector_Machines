{
 "cells": [
  {
   "cell_type": "markdown",
   "metadata": {},
   "source": [
    "### LOAD THE DATA"
   ]
  },
  {
   "cell_type": "code",
   "execution_count": 104,
   "metadata": {
    "collapsed": false
   },
   "outputs": [
    {
     "name": "stdout",
     "output_type": "stream",
     "text": [
      "[[ 0.10117974  1.09312989]\n",
      " [-0.1344052   1.01127634]\n",
      " [-0.08798433  1.02087317]\n",
      " [ 0.02863047  1.03105045]\n",
      " [ 0.15401246  1.05586286]\n",
      " [ 0.18790678  0.96940002]\n",
      " [-0.468706    0.95380176]\n",
      " [-0.76232593  1.15672593]\n",
      " [ 0.01109058  0.91598746]\n",
      " [ 0.0210233   0.9699809 ]]\n",
      "[0 0 0 0 0 0 0 0 0 0]\n"
     ]
    },
    {
     "data": {
      "image/png": "[encoded data removed]",
      "text/plain": [
       "<matplotlib.figure.Figure at 0x10c309fd0>"
      ]
     },
     "metadata": {},
     "output_type": "display_data"
    }
   ],
   "source": [
    "data_0 = np.load('cluster1_data_scaled.npy')\n",
    "clusters_0  = np.load('cluster1_answers.npy')\n",
    "print(data_0[:10])\n",
    "print(clusters_0[:10])\n",
    "plt.scatter(data_0[:,0],data_0[:,1],c=clusters_0)\n",
    "plt.rcParams['figure.figsize'] = (10,10)\n",
    "plt.show()"
   ]
  },
  {
   "cell_type": "markdown",
   "metadata": {},
   "source": [
    "### SPLITTING THE DATA - VALIDATION STRATEGIES:    \n",
    "<b>\n",
    "1. Train-Test Split   \n",
    "2. Train-Validation-Test Split    \n",
    "3. K-Fold Cross Validaton"
   ]
  },
  {
   "cell_type": "markdown",
   "metadata": {},
   "source": [
    "### 1. TRAIN-TEST SPLIT "
   ]
  },
  {
   "cell_type": "code",
   "execution_count": 163,
   "metadata": {
    "collapsed": false
   },
   "outputs": [],
   "source": [
    "from sklearn.cross_validation import train_test_split\n",
    "x_train,x_test,y_train,y_test = train_test_split(data_0, \n",
    "                                                 clusters_0,\n",
    "                                                 test_size=.33,\n",
    "                                                 random_state=2)"
   ]
  },
  {
   "cell_type": "code",
   "execution_count": 164,
   "metadata": {
    "collapsed": false
   },
   "outputs": [
    {
     "name": "stdout",
     "output_type": "stream",
     "text": [
      "(67, array([[-0.06000569,  1.44997025],\n",
      "       [ 1.78064459, -0.73806082],\n",
      "       [-0.64233288, -0.66020529],\n",
      "       [-0.468706  ,  0.95380176],\n",
      "       [-0.35083276, -1.09733221],\n",
      "       [-0.1543098 , -1.11305037],\n",
      "       [ 0.44010741,  0.91350711],\n",
      "       [ 0.37130013,  0.89181228],\n",
      "       [-0.63420626,  1.367949  ],\n",
      "       [-0.63749115, -1.03356637]]))\n",
      "(67, array([2, 1, 3, 0, 4, 4, 0, 0, 2, 4]))\n",
      "\n",
      "(33, array([[ 0.17590658, -1.1252547 ],\n",
      "       [ 1.58354736, -0.67207752],\n",
      "       [-0.75833463,  1.36179572],\n",
      "       [ 1.41849088, -0.7994436 ],\n",
      "       [ 0.16789825,  1.08808596],\n",
      "       [ 2.05467847, -0.86164437],\n",
      "       [-0.08798433,  1.02087317],\n",
      "       [ 1.71653361, -0.57419936],\n",
      "       [ 1.64066071, -0.58073757],\n",
      "       [ 0.60446767,  0.95356871]]))\n",
      "(33, array([4, 1, 2, 1, 0, 1, 0, 1, 1, 0]))\n"
     ]
    }
   ],
   "source": [
    "print(len(x_train),x_train[:10])\n",
    "print(len(y_train),y_train[:10])\n",
    "print('')\n",
    "print(len(x_test),x_test[:10])\n",
    "print(len(y_test),y_test[:10])"
   ]
  },
  {
   "cell_type": "markdown",
   "metadata": {},
   "source": [
    "><b>FIRST PREDICTION:"
   ]
  },
  {
   "cell_type": "code",
   "execution_count": 165,
   "metadata": {
    "collapsed": false
   },
   "outputs": [
    {
     "name": "stdout",
     "output_type": "stream",
     "text": [
      "[4 1 2 1 0 1 0 1 1 0 4 4 3 0 0 1 0 1 3 3 1 0 4 2 3 0 1 3 3 3 3 0 0]\n",
      "[4 1 2 1 0 1 0 1 1 0 4 4 3 0 0 1 0 1 3 3 1 0 4 2 3 0 1 3 3 3 3 0 0]\n"
     ]
    },
    {
     "data": {
      "text/plain": [
       "1.0"
      ]
     },
     "execution_count": 165,
     "metadata": {},
     "output_type": "execute_result"
    }
   ],
   "source": [
    "from sklearn import svm\n",
    "from sklearn.metrics import accuracy_score\n",
    "\n",
    "svc = svm.SVC(kernel='linear',C=2).fit(x_train,y_train)\n",
    "predictions = svc.predict(x_test)\n",
    "\n",
    "print(predictions)\n",
    "print(y_test)\n",
    "accuracy_score(predictions,y_test)"
   ]
  },
  {
   "cell_type": "markdown",
   "metadata": {},
   "source": [
    "><b> @ C == 2 this looks great! Is it the same if we load a different combination of random split from the data?:"
   ]
  },
  {
   "cell_type": "code",
   "execution_count": 166,
   "metadata": {
    "collapsed": false
   },
   "outputs": [
    {
     "data": {
      "text/plain": [
       "0.96969696969696972"
      ]
     },
     "execution_count": 166,
     "metadata": {},
     "output_type": "execute_result"
    }
   ],
   "source": [
    "x_train,x_test,y_train,y_test = train_test_split(data_0, \n",
    "                                                 clusters_0,\n",
    "                                                 test_size=.33,\n",
    "                                                 random_state=10)\n",
    "                                                 #changing random state\n",
    "                                                 #produces different\n",
    "                                                 #sample-split\n",
    "predictions = svc.predict(x_test)\n",
    "accuracy_score(predictions,y_test)"
   ]
  },
  {
   "cell_type": "markdown",
   "metadata": {},
   "source": [
    "><b> Guess not, what kind of C-parameter would give us 100% now?"
   ]
  },
  {
   "cell_type": "code",
   "execution_count": 186,
   "metadata": {
    "collapsed": false
   },
   "outputs": [
    {
     "name": "stdout",
     "output_type": "stream",
     "text": [
      "0.909090909091\n",
      "0.969696969697\n",
      "0.969696969697\n",
      "0.969696969697\n",
      "1.0\n"
     ]
    }
   ],
   "source": [
    "c_params = [1,4,8,9,10]\n",
    "for param in c_params:\n",
    "    svc = svm.SVC(kernel='linear',C=param).fit(x_train,y_train)\n",
    "    predictions = svc.predict(x_test)\n",
    "    print(accuracy_score(predictions,y_test))"
   ]
  },
  {
   "cell_type": "markdown",
   "metadata": {},
   "source": [
    "### Looks like a single instance of train-test validation just won't cut it.. Is this because the model is overfitted to the training-dataset?"
   ]
  },
  {
   "cell_type": "markdown",
   "metadata": {},
   "source": [
    "## 2. TRAIN-VALIDATION-TEST (THREEFOLD) SPLIT:"
   ]
  },
  {
   "cell_type": "markdown",
   "metadata": {},
   "source": [
    "><b>SPLIT THE DATASET TWICE:    \n",
    "FIRST SPLIT 1/1 INTO 1/4 and 3/4   \n",
    "THEN SPLIT THE 3/4 into 2/3 and 1/3      \n",
    "\n",
    "><b>FIRST SPLIT THE_WHOLE INTO TRAINING_SET AND TEST_SET     \n",
    "THEN SPLIT THE TRAINING_SET INTO TRAINING_SET AND VALIDATION_SET    \n",
    "WHAT'S LEFT IS 50%TRAINING,25%VALIDATION,AND 25%TESTING "
   ]
  },
  {
   "cell_type": "code",
   "execution_count": 338,
   "metadata": {
    "collapsed": false
   },
   "outputs": [
    {
     "name": "stdout",
     "output_type": "stream",
     "text": [
      "('full_sample', 100)\n",
      "('training_set', 75)\n",
      "('test_set', 25)\n",
      "\n",
      "('training_set', 75)\n",
      "('new_training_set', 50)\n",
      "('validation_set', 25)\n"
     ]
    }
   ],
   "source": [
    "from sklearn.cross_validation import train_test_split\n",
    "\n",
    "x_trainval, x_test, y_trainval,y_test = (\n",
    "    train_test_split(x,y,random_state = 0))\n",
    "\n",
    "x_train, x_valid,y_train,y_valid = (train_test_split(x_trainval,\n",
    "                                                     y_trainval,\n",
    "                                                     random_state = 1,\n",
    "                                                     test_size = .33))\n",
    "\n",
    "print('full_sample',len(x))\n",
    "print('training_set',len(x_trainval))\n",
    "print('test_set',len(x_test))\n",
    "print('')\n",
    "print('training_set',len(x_trainval))\n",
    "print('new_training_set',len(x_train))\n",
    "print('validation_set',len(x_valid))"
   ]
  },
  {
   "cell_type": "markdown",
   "metadata": {},
   "source": [
    "---"
   ]
  },
  {
   "cell_type": "markdown",
   "metadata": {},
   "source": [
    "## 3. NOW LET'S HACK ON THIS ALGORITHM:"
   ]
  },
  {
   "cell_type": "code",
   "execution_count": 350,
   "metadata": {
    "collapsed": false
   },
   "outputs": [
    {
     "data": {
      "text/plain": [
       "0.95999999999999996"
      ]
     },
     "execution_count": 350,
     "metadata": {},
     "output_type": "execute_result"
    }
   ],
   "source": [
    "from sklearn.svm import SVC\n",
    "\n",
    "svm = SVC(C = 1000000000)\n",
    "svm.fit(x_train,y_train)\n",
    "svm.score(x_valid,y_valid)"
   ]
  },
  {
   "cell_type": "markdown",
   "metadata": {},
   "source": [
    "#### GRIDSEARCH HYPERPARAMETER TUNING:\n",
    "<b>Gridsearch is all the combinations of two lists of scores"
   ]
  },
  {
   "cell_type": "markdown",
   "metadata": {},
   "source": [
    "<b>\n",
    "Main SVC hyperparamaters are:    \n",
    "1) C = sensetivity to outliers   \n",
    "2) Gamma = width of the gaussian kernel  \n",
    "\n",
    "### Lets build a helper_function to find optimal hyperparameters to score training data against the validation_set"
   ]
  },
  {
   "cell_type": "code",
   "execution_count": 490,
   "metadata": {
    "collapsed": false
   },
   "outputs": [
    {
     "name": "stdout",
     "output_type": "stream",
     "text": [
      "BEST IN GRID:\n",
      "['Score', 'C_val', 'Gamma']\n",
      "[[1.0, 100, 0.01],\n",
      " [1.0, 10, 0.1],\n",
      " [0.95999999999999996, 100, 10],\n",
      " [0.95999999999999996, 100, 1],\n",
      " [0.95999999999999996, 100, 0.1],\n",
      " [0.95999999999999996, 10, 10],\n",
      " [0.95999999999999996, 10, 1],\n",
      " [0.95999999999999996, 1, 10],\n",
      " [0.95999999999999996, 1, 1],\n",
      " [0.88, 100, 0.001]]\n",
      "\n",
      "VALIDATION SCORES:\n",
      "['C', 'gamma', 'test_score']\n",
      "(100, 0.01, 1.0)\n",
      "(10, 0.1, 1.0)\n",
      "(100, 10, 0.95999999999999996)\n",
      "(100, 1, 0.95999999999999996)\n",
      "(100, 0.1, 0.95999999999999996)\n",
      "(10, 10, 0.95999999999999996)\n",
      "(10, 1, 0.95999999999999996)\n",
      "(1, 10, 0.95999999999999996)\n",
      "(1, 1, 0.95999999999999996)\n",
      "(100, 0.001, 0.88)\n",
      "\n",
      "FINAL TEST SCORES\n",
      "['C', 'gamma', 'final_score']\n",
      "[[100, 0.01, 0.95999999999999996],\n",
      " [10, 0.1, 0.95999999999999996],\n",
      " [100, 10, 0.95999999999999996],\n",
      " [100, 1, 0.95999999999999996],\n",
      " [100, 0.1, 0.95999999999999996],\n",
      " [10, 10, 0.95999999999999996],\n",
      " [10, 1, 0.95999999999999996],\n",
      " [1, 10, 0.95999999999999996],\n",
      " [1, 1, 0.95999999999999996],\n",
      " [100, 0.001, 0.92000000000000004]]\n"
     ]
    }
   ],
   "source": [
    "c_grid = [.001,.01,.1,1,10,100]\n",
    "gamma_grid = [.001,.01,.1,1,10,100]\n",
    "\n",
    "def svm_grid_search(c_grid,gamma_grid,num_rows):\n",
    "    import pprint\n",
    "    \n",
    "    grid = []\n",
    "    for C in c_grid:\n",
    "        for gamma in gamma_grid:\n",
    "            svm = SVC(gamma=gamma, C=C)\n",
    "            svm.fit(x_train,y_train)\n",
    "            score = svm.score(x_valid,y_valid)\n",
    "            grid.append([score,C,gamma])\n",
    "    grid = sorted(grid,reverse=True)\n",
    "    print('BEST IN GRID:')    \n",
    "    print(['Score','C_val','Gamma'])\n",
    "    pprint.pprint(grid[:num_rows])\n",
    "    print('')\n",
    "    \n",
    "    \n",
    "    print('VALIDATION SCORES:')\n",
    "    print([\"C\",'gamma','test_score'])\n",
    "    meta_grid = []\n",
    "    for x in grid[:num_rows]:\n",
    "        svm = SVC(C=float(x[1]), gamma=float(x[2]))\n",
    "        svm.fit(x_train,y_train)\n",
    "        score = svm.score(x_valid,y_valid)        \n",
    "        print(x[1],x[2],score)\n",
    "        meta_grid.append([x[1],x[2]])\n",
    "    best_scores = []\n",
    "    for h_param in meta_grid:\n",
    "        svm = SVC(C=h_param[0],gamma=h_param[1])\n",
    "        svm.fit(x_train,y_train)\n",
    "        final_score = svm.score(x_test,y_test)\n",
    "        best_scores.append([h_param[0],h_param[1],final_score])\n",
    "    print('')\n",
    "    print('FINAL TEST SCORES')\n",
    "    print([\"C\",'gamma','final_score']) \n",
    "    pprint.pprint(best_scores)\n",
    "     \n",
    "svm_grid_search(c_grid,gamma_grid,10)"
   ]
  },
  {
   "cell_type": "markdown",
   "metadata": {},
   "source": [
    "### Looks like the top 9 combinations of C and gamma produce a 96% accuracy score!"
   ]
  },
  {
   "cell_type": "markdown",
   "metadata": {},
   "source": [
    "---"
   ]
  },
  {
   "cell_type": "markdown",
   "metadata": {},
   "source": [
    "### CODEX"
   ]
  },
  {
   "cell_type": "code",
   "execution_count": 3,
   "metadata": {
    "collapsed": true
   },
   "outputs": [],
   "source": [
    "import pandas as pd\n",
    "from __future__ import division\n",
    "import random\n",
    "import numpy as np\n",
    "from numpy import random, array, float\n",
    "import matplotlib.pyplot as plt\n",
    "%matplotlib inline"
   ]
  },
  {
   "cell_type": "markdown",
   "metadata": {},
   "source": [
    "---"
   ]
  }
 ],
 "metadata": {
  "kernelspec": {
   "display_name": "Python 2",
   "language": "python",
   "name": "python2"
  }
 },
 "nbformat": 4,
 "nbformat_minor": 0
}
