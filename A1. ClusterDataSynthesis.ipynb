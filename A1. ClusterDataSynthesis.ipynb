{
 "cells": [
  {
   "cell_type": "markdown",
   "metadata": {},
   "source": [
    "### MISSION: SYNTHESIZE A CLUSTERED DATASET: \n",
    "<b>Create a function that spits out k clusters of N people. \n",
    "For each person, the x-variable will designate age, the y-variable will designate income."
   ]
  },
  {
   "cell_type": "markdown",
   "metadata": {},
   "source": [
    "---"
   ]
  },
  {
   "cell_type": "markdown",
   "metadata": {},
   "source": [
    "## 0. REQUISITES:"
   ]
  },
  {
   "cell_type": "markdown",
   "metadata": {},
   "source": [
    "#### random.uniform: Any value within the given interval is equally likely to be drawn by uniform"
   ]
  },
  {
   "cell_type": "code",
   "execution_count": 548,
   "metadata": {
    "collapsed": false
   },
   "outputs": [
    {
     "data": {
      "text/plain": [
       "7.166017939069962"
      ]
     },
     "execution_count": 548,
     "metadata": {},
     "output_type": "execute_result"
    }
   ],
   "source": [
    "random.uniform(1,11)"
   ]
  },
  {
   "cell_type": "code",
   "execution_count": 549,
   "metadata": {
    "collapsed": false
   },
   "outputs": [
    {
     "data": {
      "image/png": "[encoded data removed]",
      "text/plain": [
       "<matplotlib.figure.Figure at 0x115d19850>"
      ]
     },
     "metadata": {},
     "output_type": "display_data"
    }
   ],
   "source": [
    "test_uniform = random.uniform(-1,1,100)\n",
    "plt.bar(range(len(test_uniform)),test_uniform)\n",
    "plt.show()"
   ]
  },
  {
   "cell_type": "code",
   "execution_count": 550,
   "metadata": {
    "collapsed": false
   },
   "outputs": [
    {
     "data": {
      "image/png": "[encoded data removed]",
      "text/plain": [
       "<matplotlib.figure.Figure at 0x11af90d10>"
      ]
     },
     "metadata": {},
     "output_type": "display_data"
    }
   ],
   "source": [
    "test_uniform = random.uniform(1,100,100)\n",
    "plt.bar(range(len(test_uniform)),test_uniform)\n",
    "plt.show()"
   ]
  },
  {
   "cell_type": "code",
   "execution_count": 551,
   "metadata": {
    "collapsed": false
   },
   "outputs": [
    {
     "data": {
      "text/plain": [
       "48.90271265126227"
      ]
     },
     "execution_count": 551,
     "metadata": {},
     "output_type": "execute_result"
    }
   ],
   "source": [
    "np.mean(test_uniform)"
   ]
  },
  {
   "cell_type": "markdown",
   "metadata": {},
   "source": [
    "### random.normal: Draw random samples from a normal (Gaussian) distribution."
   ]
  },
  {
   "cell_type": "code",
   "execution_count": 552,
   "metadata": {
    "collapsed": false
   },
   "outputs": [
    {
     "data": {
      "image/png": "[encoded data removed]",
      "text/plain": [
       "<matplotlib.figure.Figure at 0x11b05a790>"
      ]
     },
     "metadata": {},
     "output_type": "display_data"
    },
    {
     "data": {
      "image/png": "[encoded data removed]",
      "text/plain": [
       "<matplotlib.figure.Figure at 0x11b067750>"
      ]
     },
     "metadata": {},
     "output_type": "display_data"
    }
   ],
   "source": [
    "import scipy.stats as st\n",
    "\n",
    "mean = 0\n",
    "std = 0.1\n",
    "\n",
    "s = np.random.normal(mean,std,1000)\n",
    "plt.hist(s,100,normed = True)\n",
    "\n",
    "plt.show()\n",
    "\n",
    "pdf = st.norm.pdf(s,mean,std)\n",
    "plt.scatter(s,pdf,s=2,color='r')\n",
    "plt.show()"
   ]
  },
  {
   "cell_type": "markdown",
   "metadata": {},
   "source": [
    "<b>Here you either have a uniform distribution or a normal distribution, but what if you had one OF the other?"
   ]
  },
  {
   "cell_type": "code",
   "execution_count": 553,
   "metadata": {
    "collapsed": true
   },
   "outputs": [],
   "source": [
    "mean = 0\n",
    "std = 1"
   ]
  },
  {
   "cell_type": "code",
   "execution_count": 554,
   "metadata": {
    "collapsed": false
   },
   "outputs": [
    {
     "data": {
      "text/plain": [
       "array([0.531698551518, 0.306208694853, 0.794651205247, 0.0145986699229,\n",
       "       0.381508536498, 0.655213045796, 0.41189702035, 0.690972208511,\n",
       "       0.570053495188, 0.554895196335, 0.162068757882, 0.35036422856,\n",
       "       0.765937259143, 0.0748629994327, 0.80862923783, 0.241341463437,\n",
       "       0.393423314372, 0.467156504063, 0.207175951006, 0.913840144136,\n",
       "       0.688435275299, 0.00131213356619, 0.802888132078, 0.192368060678,\n",
       "       0.410850445779, 0.828047923269, 0.916628132689, 0.92475994142,\n",
       "       0.594074377524, 0.321581024821, 0.84239467502, 0.527249807804,\n",
       "       0.932940537665, 0.555776755814, 0.217281322488, 0.616175020278,\n",
       "       0.530721011099, 0.744943537895, 0.432382941271, 0.961267460214,\n",
       "       0.330142459673, 0.0274810420574, 0.780194633025, 0.45841325336,\n",
       "       0.741023927311, 0.210951444061, 0.338252924466, 0.112441736859,\n",
       "       0.453852444487, 0.0365192299227, 0.649135023904, 0.581485435677])"
      ]
     },
     "execution_count": 554,
     "metadata": {},
     "output_type": "execute_result"
    }
   ],
   "source": [
    "uniform = np.random.uniform(mean,std,1000)\n",
    "uniform[:52]"
   ]
  },
  {
   "cell_type": "markdown",
   "metadata": {},
   "source": [
    "---"
   ]
  },
  {
   "cell_type": "markdown",
   "metadata": {},
   "source": [
    "><b>NORMAL DIST:"
   ]
  },
  {
   "cell_type": "code",
   "execution_count": 555,
   "metadata": {
    "collapsed": false
   },
   "outputs": [
    {
     "data": {
      "text/plain": [
       "array([0.990988859774, -0.952098359856, 1.59195350625, -0.168788186665,\n",
       "       -0.731269856131, 0.0580902388842, -1.16621890823, -2.01752118136,\n",
       "       0.131971690674, -1.89202136104, -0.341391440226, -0.745594676567,\n",
       "       -2.40371200015, -1.18332443089, 1.14943002549, -3.13984444263,\n",
       "       1.76042935891, -0.406478216585, -0.651738795681, 0.375035996862,\n",
       "       0.13687562657, -1.27387396756, -1.16094066851, 1.39356751707,\n",
       "       -0.999800828534, 0.467770918597, 0.143951590326, 1.28190981928,\n",
       "       2.37158091279, 0.636735500601, 0.119516848025, 0.0541003254295,\n",
       "       -0.843283138485, 1.03741567421, -2.0507767008, -0.785047693374,\n",
       "       -1.36710422221, 1.59607615503, 0.607454559028, -0.1282022875,\n",
       "       0.408617009467, 0.21755838903, 0.484063592816, 1.06525227751,\n",
       "       0.144724211073, 0.0609314122976, -2.22794391474, 0.300308782116,\n",
       "       -1.35053523099, -0.236968758779, -1.44487258319, -2.44794758325])"
      ]
     },
     "execution_count": 555,
     "metadata": {},
     "output_type": "execute_result"
    }
   ],
   "source": [
    "mean = 0\n",
    "std = 1\n",
    "\n",
    "normal_dist = random.normal(mean,std,1000)\n",
    "normal_dist[:52]"
   ]
  },
  {
   "cell_type": "code",
   "execution_count": 556,
   "metadata": {
    "collapsed": false
   },
   "outputs": [
    {
     "data": {
      "image/png": "[encoded data removed]",
      "text/plain": [
       "<matplotlib.figure.Figure at 0x11b31ae10>"
      ]
     },
     "metadata": {},
     "output_type": "display_data"
    },
    {
     "data": {
      "image/png": "[encoded data removed]",
      "text/plain": [
       "<matplotlib.figure.Figure at 0x11bb08c50>"
      ]
     },
     "metadata": {},
     "output_type": "display_data"
    },
    {
     "data": {
      "image/png": "[encoded data removed]",
      "text/plain": [
       "<matplotlib.figure.Figure at 0x105688d50>"
      ]
     },
     "metadata": {},
     "output_type": "display_data"
    }
   ],
   "source": [
    "plt.scatter(range(len(normal_dist)),normal_dist)\n",
    "plt.show()\n",
    "plt.bar(range(len(normal_dist)),normal_dist)\n",
    "plt.show()\n",
    "plt.hist(normal_dist)\n",
    "plt.show()"
   ]
  },
  {
   "cell_type": "markdown",
   "metadata": {},
   "source": [
    "---"
   ]
  },
  {
   "cell_type": "markdown",
   "metadata": {},
   "source": [
    "## 1)  CREATE >ONE< RANDOM CLUSTER:"
   ]
  },
  {
   "cell_type": "code",
   "execution_count": 558,
   "metadata": {
    "collapsed": false
   },
   "outputs": [
    {
     "data": {
      "text/plain": [
       "<matplotlib.collections.PathCollection at 0x11ca1a950>"
      ]
     },
     "execution_count": 558,
     "metadata": {},
     "output_type": "execute_result"
    },
    {
     "data": {
      "image/png": "[encoded data removed]",
      "text/plain": [
       "<matplotlib.figure.Figure at 0x11cb65c10>"
      ]
     },
     "metadata": {},
     "output_type": "display_data"
    }
   ],
   "source": [
    "# N = Number of people\n",
    "def createClusteredData(N):\n",
    "    \n",
    "    # X_DATA_SET\n",
    "    X = []\n",
    "\n",
    "    #Pick a random center x & y cooridnate around which the income/age data will cluster\n",
    "    #Use random.uniform(floor,ceiling)\n",
    "    income_center_x = random.uniform(20000,100000) \n",
    "    age_center_y = random.uniform(20,70)\n",
    "    \n",
    "    #For each person in the cluster: \n",
    "    #Pick a random point normally distributed around the center\n",
    "    #using random.normal(mean,std)\n",
    "    for x in range(N):\n",
    "        X.append([random.normal(income_center_x),random.normal(age_center_y)])\n",
    "    \n",
    "    \n",
    "    #CONVERT X LIST TO ARRAY\n",
    "    X = array(X)\n",
    "    return X\n",
    "\n",
    "cluster1 = createClusteredData(20)\n",
    "plt.scatter([x[0] for x in cluster1],[x[1] for x in cluster1])"
   ]
  },
  {
   "cell_type": "markdown",
   "metadata": {},
   "source": [
    "#### 2. CREATE k NUMBER OF CLUSTERS"
   ]
  },
  {
   "cell_type": "code",
   "execution_count": 559,
   "metadata": {
    "collapsed": true
   },
   "outputs": [],
   "source": [
    "from __future__ import division"
   ]
  },
  {
   "cell_type": "code",
   "execution_count": 574,
   "metadata": {
    "collapsed": false
   },
   "outputs": [
    {
     "data": {
      "text/plain": [
       "<matplotlib.collections.PathCollection at 0x11af00ed0>"
      ]
     },
     "execution_count": 574,
     "metadata": {},
     "output_type": "execute_result"
    },
    {
     "data": {
      "image/png": "[encoded data removed]",
      "text/plain": [
       "<matplotlib.figure.Figure at 0x11b6693d0>"
      ]
     },
     "metadata": {},
     "output_type": "display_data"
    }
   ],
   "source": [
    "# N = Number of people\n",
    "def createClusteredData(N,k):\n",
    "    \n",
    "    people_per_cluster = N/k\n",
    "    \n",
    "    # X_DATA_SET\n",
    "    X = []\n",
    "    \n",
    "    \n",
    "    #For each person out of N-total people, in each cluster out of k-total people: \n",
    "    #Pick a random point normally distributed around the center. (k total points per cluster)\n",
    "    #using random.normal(mean,std)\n",
    "    \n",
    "    for x in range(k):\n",
    "        income_center_x = random.uniform(2000,100000) \n",
    "        age_center_y = random.uniform(20,70)\n",
    "        \n",
    "        #for each cluster, fill list wth normal distributions around x and y centers\n",
    "        #with x_std = 1000 and y_std = 2\n",
    "        for y in range(int(people_per_cluster)):\n",
    "            X.append([random.normal(income_center_x,1000),random.normal(age_center_y,2)])\n",
    "    \n",
    "    \n",
    "    #CONVERT X LIST TO ARRAY\n",
    "    X = array(X)\n",
    "    return X\n",
    "\n",
    "cluster1 = createClusteredData(100,5)\n",
    "plt.scatter([x[0] for x in cluster1],[x[1] for x in cluster1])"
   ]
  },
  {
   "cell_type": "markdown",
   "metadata": {},
   "source": [
    "### 3. MAKE EACH CLUSTER IDENTIFIABLE BY AN INTEGER AGAINST WHICH TO VALIDATE PREDICTIONS:"
   ]
  },
  {
   "cell_type": "code",
   "execution_count": 564,
   "metadata": {
    "collapsed": false
   },
   "outputs": [
    {
     "data": {
      "text/plain": [
       "<matplotlib.collections.PathCollection at 0x11b71f990>"
      ]
     },
     "execution_count": 564,
     "metadata": {},
     "output_type": "execute_result"
    },
    {
     "data": {
      "image/png": "[encoded data removed]",
      "text/plain": [
       "<matplotlib.figure.Figure at 0x11b2499d0>"
      ]
     },
     "metadata": {},
     "output_type": "display_data"
    }
   ],
   "source": [
    "# N = Number of people\n",
    "def createClusteredData(N,k):\n",
    "    \n",
    "    people_per_cluster = N/k\n",
    "    \n",
    "    # X_DATA_SET\n",
    "    # ***y is the actualnumber_assignment of each cluster***\n",
    "    X = []\n",
    "    y = []\n",
    "    \n",
    "    \n",
    "    #For each person out of N-total people, in each cluster out of k-total people: \n",
    "    #Pick a random point normally distributed around the center. (k total points per cluster)\n",
    "    #using random.normal(mean,std)\n",
    "    \n",
    "    for x in range(k):\n",
    "        income_center_x = random.uniform(2000,100000) \n",
    "        age_center_y = random.uniform(20,70)\n",
    "        \n",
    "        #for each cluster, fill list wth normal distributions around x and y centers\n",
    "        #with x_std = 1000 and y_std = 2\n",
    "        for value in range(int(people_per_cluster)):\n",
    "            X.append([random.normal(income_center_x,9000),random.normal(age_center_y,2)])\n",
    "            y.append(x)\n",
    "    \n",
    "    #CONVERT X LIST TO ARRAY\n",
    "    X = array(X)\n",
    "    return X,y\n",
    "\n",
    "cluster1 = createClusteredData(100,5)\n",
    "plt.rcParams['figure.figsize'] = (10,10)\n",
    "plt.scatter([x[0] for x in cluster1[0]],[x[1] for x in cluster1[0]])"
   ]
  },
  {
   "cell_type": "code",
   "execution_count": 565,
   "metadata": {
    "collapsed": false
   },
   "outputs": [],
   "source": [
    "np.save('cluster1_data',cluster1[0])"
   ]
  },
  {
   "cell_type": "code",
   "execution_count": 566,
   "metadata": {
    "collapsed": false
   },
   "outputs": [
    {
     "data": {
      "text/plain": [
       "array([[33292.5946262, 57.6242507231],\n",
       "       [27284.6819154, 56.1470503058],\n",
       "       [28468.5118612, 56.3202430439],\n",
       "       [31442.4352906, 56.5039111129],\n",
       "       [34639.9402092, 56.9516973778],\n",
       "       [35504.3167372, 55.3913136217],\n",
       "       [18759.3069249, 55.1098139775],\n",
       "       [11271.37959, 58.7719601833],\n",
       "       [30995.1309611, 54.4273841898],\n",
       "       [31248.4363035, 55.4017967057]])"
      ]
     },
     "execution_count": 566,
     "metadata": {},
     "output_type": "execute_result"
    }
   ],
   "source": [
    "np.load('cluster1_data.npy')[:10]"
   ]
  },
  {
   "cell_type": "code",
   "execution_count": 567,
   "metadata": {
    "collapsed": true
   },
   "outputs": [],
   "source": [
    "np.save('cluster1_answers',cluster1[1])"
   ]
  },
  {
   "cell_type": "code",
   "execution_count": 568,
   "metadata": {
    "collapsed": false
   },
   "outputs": [
    {
     "data": {
      "text/plain": [
       "array([0, 0, 0, 0, 0, 0, 0, 0, 0, 0, 0, 0, 0, 0, 0, 0, 0, 0, 0, 0, 1, 1, 1,\n",
       "       1, 1, 1, 1, 1, 1, 1, 1, 1, 1, 1, 1, 1, 1, 1, 1, 1, 2, 2, 2, 2, 2, 2,\n",
       "       2, 2, 2, 2, 2, 2, 2, 2, 2, 2, 2, 2, 2, 2, 3, 3, 3, 3, 3, 3, 3, 3, 3,\n",
       "       3, 3, 3, 3, 3, 3, 3, 3, 3, 3, 3, 4, 4, 4, 4, 4, 4, 4, 4, 4, 4, 4, 4,\n",
       "       4, 4, 4, 4, 4, 4, 4, 4])"
      ]
     },
     "execution_count": 568,
     "metadata": {},
     "output_type": "execute_result"
    }
   ],
   "source": [
    "np.load('cluster1_answers.npy')"
   ]
  },
  {
   "cell_type": "markdown",
   "metadata": {},
   "source": [
    "### >>>Now we are ready to run clustering workflows on this synthetic data<<<"
   ]
  },
  {
   "cell_type": "markdown",
   "metadata": {},
   "source": [
    "---"
   ]
  },
  {
   "cell_type": "markdown",
   "metadata": {},
   "source": [
    "## CODEX:"
   ]
  },
  {
   "cell_type": "code",
   "execution_count": 569,
   "metadata": {
    "collapsed": true
   },
   "outputs": [],
   "source": [
    "from __future__ import division\n",
    "import random\n",
    "import numpy as np\n",
    "from numpy import random, array, float\n",
    "import matplotlib.pyplot as plt\n",
    "%matplotlib inline"
   ]
  }
 ],
 "metadata": {
  "kernelspec": {
   "display_name": "Python 2",
   "language": "python",
   "name": "python2"
  },
  "language_info": {
   "codemirror_mode": {
    "name": "ipython",
    "version": 2
   },
   "file_extension": ".py",
   "mimetype": "text/x-python",
   "name": "python",
   "nbconvert_exporter": "python",
   "pygments_lexer": "ipython2",
   "version": "2.7.11"
  }
 },
 "nbformat": 4,
 "nbformat_minor": 0
}
